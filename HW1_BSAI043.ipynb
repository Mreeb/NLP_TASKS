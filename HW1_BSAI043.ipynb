{
 "cells": [
  {
   "cell_type": "markdown",
   "id": "0c54834f",
   "metadata": {},
   "source": [
    "# Min Edit Distance"
   ]
  },
  {
   "cell_type": "code",
   "execution_count": 4,
   "id": "1e4c2ec3",
   "metadata": {},
   "outputs": [],
   "source": [
    "import numpy as np\n",
    "def min_edit_distance(s1, s2):\n",
    "    m, n = len(s1), len(s2)\n",
    "    dp = np.zeros((m+1, n+1))\n",
    "    \n",
    "    for i in range(m+1):\n",
    "        dp[i][0] = i\n",
    "        \n",
    "    for j in range(n+1):\n",
    "        dp[0][j] = j\n",
    "        \n",
    "    for i in range(1, m+1):\n",
    "        for j in range(1, n+1):\n",
    "            if s1[i-1] == s2[j-1]:\n",
    "                dp[i][j] = dp[i-1][j-1]\n",
    "            else:\n",
    "                dp[i][j] = min(dp[i-1][j], dp[i][j-1], dp[i-1][j-1]) + 1\n",
    "                \n",
    "    return int(dp[m][n])\n",
    "\n"
   ]
  },
  {
   "cell_type": "code",
   "execution_count": 5,
   "id": "c3da34b9",
   "metadata": {},
   "outputs": [
    {
     "name": "stdout",
     "output_type": "stream",
     "text": [
      "3\n",
      "3\n"
     ]
    }
   ],
   "source": [
    "s1 = \"drive\"\n",
    "s2 = \"brief\"\n",
    "print(min_edit_distance(s1, s2))\n",
    "\n",
    "s1 = \"drive\"\n",
    "s2 = \"divers\"\n",
    "print(min_edit_distance(s1, s2))\n",
    "                "
   ]
  }
 ],
 "metadata": {
  "kernelspec": {
   "display_name": "Python 3 (ipykernel)",
   "language": "python",
   "name": "python3"
  },
  "language_info": {
   "codemirror_mode": {
    "name": "ipython",
    "version": 3
   },
   "file_extension": ".py",
   "mimetype": "text/x-python",
   "name": "python",
   "nbconvert_exporter": "python",
   "pygments_lexer": "ipython3",
   "version": "3.9.13"
  }
 },
 "nbformat": 4,
 "nbformat_minor": 5
}
