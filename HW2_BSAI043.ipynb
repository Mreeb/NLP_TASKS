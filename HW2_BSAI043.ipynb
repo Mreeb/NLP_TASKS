{
 "cells": [
  {
   "cell_type": "markdown",
   "id": "70e5aad9",
   "metadata": {},
   "source": [
    "# USING NLTK"
   ]
  },
  {
   "cell_type": "code",
   "execution_count": 2,
   "id": "67cf050c",
   "metadata": {},
   "outputs": [],
   "source": [
    "import nltk\n",
    "from nltk.tokenize import word_tokenize\n",
    "from nltk.util import ngrams  "
   ]
  },
  {
   "cell_type": "code",
   "execution_count": 3,
   "id": "8b1d76a2",
   "metadata": {},
   "outputs": [],
   "source": [
    "text = \"The quick brown fox jumps over the lazy dog. This is a sample text.\"\n",
    "\n",
    "words = word_tokenize(text)\n",
    "unigrams = list(ngrams(words, 1))\n",
    "bigrams = list(ngrams(words, 2))"
   ]
  },
  {
   "cell_type": "code",
   "execution_count": 5,
   "id": "bf6ec64f",
   "metadata": {},
   "outputs": [
    {
     "name": "stdout",
     "output_type": "stream",
     "text": [
      "Unigrams [('The',), ('quick',), ('brown',), ('fox',), ('jumps',), ('over',), ('the',), ('lazy',), ('dog',), ('.',), ('This',), ('is',), ('a',), ('sample',), ('text',), ('.',)]\n",
      "Unigrams [('The', 'quick'), ('quick', 'brown'), ('brown', 'fox'), ('fox', 'jumps'), ('jumps', 'over'), ('over', 'the'), ('the', 'lazy'), ('lazy', 'dog'), ('dog', '.'), ('.', 'This'), ('This', 'is'), ('is', 'a'), ('a', 'sample'), ('sample', 'text'), ('text', '.')]\n"
     ]
    }
   ],
   "source": [
    "print(\"Unigrams\", unigrams)\n",
    "print(\"Unigrams\", bigrams)"
   ]
  },
  {
   "cell_type": "markdown",
   "id": "af8c64e3",
   "metadata": {},
   "source": [
    "# Custom Functions"
   ]
  },
  {
   "cell_type": "code",
   "execution_count": 13,
   "id": "d6cb8e48",
   "metadata": {},
   "outputs": [],
   "source": [
    "import re\n",
    "words = re.findall(r'\\b\\w+\\b', text)"
   ]
  },
  {
   "cell_type": "code",
   "execution_count": 14,
   "id": "4ac08e1f",
   "metadata": {},
   "outputs": [
    {
     "name": "stdout",
     "output_type": "stream",
     "text": [
      "{'The': 1, 'quick': 1, 'brown': 1, 'fox': 1, 'jumps': 1, 'over': 1, 'the': 1, 'lazy': 1, 'dog': 1, 'This': 1, 'is': 1, 'a': 1, 'sample': 1, 'text': 1}\n"
     ]
    }
   ],
   "source": [
    "def get_unigrams(words):\n",
    "    unigrams = {}\n",
    "    for word in words:\n",
    "        if word in unigrams:\n",
    "            unigrams[word] += 1\n",
    "        else: unigrams[word] = 1\n",
    "    return unigrams\n",
    "print(get_unigrams(words))"
   ]
  },
  {
   "cell_type": "code",
   "execution_count": 15,
   "id": "d32345e6",
   "metadata": {},
   "outputs": [
    {
     "name": "stdout",
     "output_type": "stream",
     "text": [
      "{('The', 'quick'): 1, ('quick', 'brown'): 1, ('brown', 'fox'): 1, ('fox', 'jumps'): 1, ('jumps', 'over'): 1, ('over', 'the'): 1, ('the', 'lazy'): 1, ('lazy', 'dog'): 1, ('dog', 'This'): 1, ('This', 'is'): 1, ('is', 'a'): 1, ('a', 'sample'): 1, ('sample', 'text'): 1}\n"
     ]
    }
   ],
   "source": [
    "def get_bigrams(text):\n",
    "    bigrams = [(words[i], words[i+1]) for i in range(len(words)-1)]\n",
    "    bigram_counts = {}\n",
    "    for bigram in bigrams:\n",
    "        if bigram in bigram_counts:\n",
    "            bigram_counts[bigram] += 1\n",
    "        else:bigram_counts[bigram] = 1\n",
    "    return bigram_counts\n",
    "print(get_bigrams(words))"
   ]
  },
  {
   "cell_type": "code",
   "execution_count": null,
   "id": "5ffd408b",
   "metadata": {},
   "outputs": [],
   "source": []
  }
 ],
 "metadata": {
  "kernelspec": {
   "display_name": "Python 3 (ipykernel)",
   "language": "python",
   "name": "python3"
  },
  "language_info": {
   "codemirror_mode": {
    "name": "ipython",
    "version": 3
   },
   "file_extension": ".py",
   "mimetype": "text/x-python",
   "name": "python",
   "nbconvert_exporter": "python",
   "pygments_lexer": "ipython3",
   "version": "3.9.13"
  }
 },
 "nbformat": 4,
 "nbformat_minor": 5
}
